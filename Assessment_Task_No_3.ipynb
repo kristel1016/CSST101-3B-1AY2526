{
  "nbformat": 4,
  "nbformat_minor": 0,
  "metadata": {
    "colab": {
      "provenance": []
    },
    "kernelspec": {
      "name": "python3",
      "display_name": "Python 3"
    },
    "language_info": {
      "name": "python"
    }
  },
  "cells": [
    {
      "cell_type": "markdown",
      "source": [
        "***UNIFICATION***"
      ],
      "metadata": {
        "id": "sd1hzhyRIyw7"
      }
    },
    {
      "cell_type": "code",
      "source": [
        "def unify(p1, p2):\n",
        "    f1, f2 = p1.split(\"(\")[0], p2.split(\"(\")[0]\n",
        "    if f1 != f2:\n",
        "        return \"Cannot be unified\"\n",
        "\n",
        "    a1, a2 = p1[p1.find(\"(\")+1:-1].split(\",\"), p2[p2.find(\"(\")+1:-1].split(\",\")\n",
        "    if len(a1) != len(a2):\n",
        "        return \"Cannot be unified\"\n",
        "\n",
        "    subs = {}\n",
        "    for x, y in zip(a1, a2):\n",
        "        x, y = x.strip(), y.strip()\n",
        "        if x == y: continue\n",
        "        if x.islower(): subs[x] = y\n",
        "        elif y.islower(): subs[y] = x\n",
        "        else: return \"Cannot be unified\"\n",
        "\n",
        "    return subs or \"Already unified\"\n",
        "\n",
        "print(\"Rule: Eligible(x) → Scholarship(x)\")\n",
        "print(\"Fact: Eligible(Ana)\")\n",
        "print(\"Substitution set:\", unify(\"Eligible(x)\", \"Eligible(Ana)\"))"
      ],
      "metadata": {
        "colab": {
          "base_uri": "https://localhost:8080/"
        },
        "id": "ig0T9D4dI9la",
        "outputId": "d1d6ab9a-1ca7-4c45-bee8-75a578c5c474"
      },
      "execution_count": 3,
      "outputs": [
        {
          "output_type": "stream",
          "name": "stdout",
          "text": [
            "Rule: Eligible(x) → Scholarship(x)\n",
            "Fact: Eligible(Ana)\n",
            "Substitution set: {'x': 'Ana'}\n"
          ]
        }
      ]
    },
    {
      "cell_type": "markdown",
      "source": [
        "***FORWARD CHAINING***"
      ],
      "metadata": {
        "id": "A02WGfHYKJTw"
      }
    },
    {
      "cell_type": "code",
      "source": [
        "facts = {\n",
        "    \"HighGrades(Juan)\", \"Applied(Juan)\",\n",
        "    \"HighGrades(Maria)\",  # DidNotApply(Maria) -> so Applied is absent\n",
        "    \"StudentLeader(Carlos)\",  # NoHighGrades(Carlos) -> so HighGrades is absent\n",
        "    \"HighGrades(Ana)\", \"StudentLeader(Ana)\", \"Applied(Ana)\"\n",
        "}\n",
        "\n",
        "# Rules as functions\n",
        "def apply_rules(facts):\n",
        "    derived = set(facts)\n",
        "    changed = True\n",
        "    while changed:\n",
        "        changed = False\n",
        "\n",
        "        # Rule 1: HG & Leader & Applied -> Eligible\n",
        "        for f in list(derived):\n",
        "            names = {f[f.find(\"(\")+1:-1] for f in derived}\n",
        "        for n in names:\n",
        "            if all(pred+f\"({n})\" in derived for pred in [\"HighGrades\", \"StudentLeader\", \"Applied\"]):\n",
        "                if f\"Eligible({n})\" not in derived:\n",
        "                    derived.add(f\"Eligible({n})\")\n",
        "                    changed = True\n",
        "\n",
        "        # Rule 2: Eligible -> Scholarship\n",
        "        for f in list(derived):\n",
        "            if f.startswith(\"Eligible(\"):\n",
        "                name = f[f.find(\"(\")+1:-1]\n",
        "                if f\"Scholarship({name})\" not in derived:\n",
        "                    derived.add(f\"Scholarship({name})\")\n",
        "                    changed = True\n",
        "\n",
        "        # Rule 3: Scholarship -> FinancialSupport\n",
        "        for f in list(derived):\n",
        "            if f.startswith(\"Scholarship(\"):\n",
        "                name = f[f.find(\"(\")+1:-1]\n",
        "                if f\"FinancialSupport({name})\" not in derived:\n",
        "                    derived.add(f\"FinancialSupport({name})\")\n",
        "                    changed = True\n",
        "    return derived\n",
        "\n",
        "final_facts = apply_rules(facts)\n",
        "\n",
        "print(\"All derived facts:\", final_facts)\n",
        "print(\"Juan derived facts:\", [f for f in final_facts if \"Juan\" in f])\n",
        "print(\"Ana derived facts:\", [f for f in final_facts if \"Ana\" in f])\n",
        "print(\"Maria and Carlos not eligible because:\")\n",
        "print(\"- Maria did not Apply\")\n",
        "print(\"- Carlos has NoHighGrades\")"
      ],
      "metadata": {
        "colab": {
          "base_uri": "https://localhost:8080/"
        },
        "id": "KEdoITORKQUP",
        "outputId": "523ab309-e0ba-4ac6-df06-dc571fbbbbee"
      },
      "execution_count": 4,
      "outputs": [
        {
          "output_type": "stream",
          "name": "stdout",
          "text": [
            "\n",
            "=== Part 2: Forward Chaining ===\n",
            "All derived facts: {'FinancialSupport(Ana)', 'HighGrades(Juan)', 'HighGrades(Ana)', 'Scholarship(Ana)', 'Applied(Ana)', 'StudentLeader(Ana)', 'Eligible(Ana)', 'Applied(Juan)', 'StudentLeader(Carlos)', 'HighGrades(Maria)'}\n",
            "Juan derived facts: ['HighGrades(Juan)', 'Applied(Juan)']\n",
            "Ana derived facts: ['FinancialSupport(Ana)', 'HighGrades(Ana)', 'Scholarship(Ana)', 'Applied(Ana)', 'StudentLeader(Ana)', 'Eligible(Ana)']\n",
            "Maria and Carlos not eligible because:\n",
            "- Maria did not Apply\n",
            "- Carlos has NoHighGrades\n"
          ]
        }
      ]
    },
    {
      "cell_type": "markdown",
      "source": [
        "***BACKWARD*** ***CHAINING***"
      ],
      "metadata": {
        "id": "QjhLGM7WLAaz"
      }
    },
    {
      "cell_type": "code",
      "source": [
        "def prove(goal, facts):\n",
        "    # Base case: if goal is already a fact\n",
        "    if goal in facts:\n",
        "        return True\n",
        "\n",
        "    name = goal[goal.find(\"(\")+1:-1]\n",
        "\n",
        "    # Scholarship(x) <- Eligible(x)\n",
        "    if goal.startswith(\"Scholarship(\"):\n",
        "        return prove(f\"Eligible({name})\", facts)\n",
        "\n",
        "    # FinancialSupport(x) <- Scholarship(x)\n",
        "    if goal.startswith(\"FinancialSupport(\"):\n",
        "        return prove(f\"Scholarship({name})\", facts)\n",
        "\n",
        "    # Eligible(x) <- HG(x) & Leader(x) & Applied(x)\n",
        "    if goal.startswith(\"Eligible(\"):\n",
        "        return all(p in facts for p in [\n",
        "            f\"HighGrades({name})\",\n",
        "            f\"StudentLeader({name})\",\n",
        "            f\"Applied({name})\"\n",
        "        ])\n",
        "    return False\n",
        "\n",
        "print(\"Goal Scholarship(Maria):\", prove(\"Scholarship(Maria)\", facts))\n",
        "print(\"Goal FinancialSupport(Ana):\", prove(\"FinancialSupport(Ana)\", facts))"
      ],
      "metadata": {
        "colab": {
          "base_uri": "https://localhost:8080/"
        },
        "id": "faNhIK7uLIVc",
        "outputId": "94a68f15-1aa7-4830-821e-61d681bed163"
      },
      "execution_count": 5,
      "outputs": [
        {
          "output_type": "stream",
          "name": "stdout",
          "text": [
            "Goal Scholarship(Maria): False\n",
            "Goal FinancialSupport(Ana): True\n"
          ]
        }
      ]
    },
    {
      "cell_type": "markdown",
      "source": [
        "***VALIDITY*** ***CHECK***"
      ],
      "metadata": {
        "id": "QfSlk6VLLrnt"
      }
    },
    {
      "cell_type": "code",
      "source": [
        "import itertools\n",
        "print(\"HG | L | A | Antecedent | Eligible | (Antecedent -> Eligible)\")\n",
        "\n",
        "for HG, L, A in itertools.product([0,1],[0,1],[0,1]):\n",
        "    antecedent = HG and L and A\n",
        "    Eligible = antecedent\n",
        "    implication = (not antecedent) or Eligible\n",
        "    print(f\" {HG} | {L} | {A} |     {antecedent}      |    {Eligible}    |          {implication}\")\n",
        "\n",
        "print(\"\\nStudent Tests:\")\n",
        "students = {\n",
        "    \"Juan\": (1,0,1),\n",
        "    \"Maria\": (1,0,0),\n",
        "    \"Carlos\": (0,1,0),\n",
        "    \"Ana\": (1,1,1)\n",
        "}\n",
        "\n",
        "for s,(HG,L,A) in students.items():\n",
        "    antecedent = HG and L and A\n",
        "    Eligible = antecedent\n",
        "    status = \"Eligible\" if Eligible else \"Not Eligible\"\n",
        "    print(f\"{s}: HG={HG}, L={L}, A={A} → {status}\")"
      ],
      "metadata": {
        "colab": {
          "base_uri": "https://localhost:8080/"
        },
        "id": "_Enl23urLyrM",
        "outputId": "088a08fc-afde-4375-bde6-ebf6dc726566"
      },
      "execution_count": 8,
      "outputs": [
        {
          "output_type": "stream",
          "name": "stdout",
          "text": [
            "HG | L | A | Antecedent | Eligible | (Antecedent -> Eligible)\n",
            " 0 | 0 | 0 |     0      |    0    |          True\n",
            " 0 | 0 | 1 |     0      |    0    |          True\n",
            " 0 | 1 | 0 |     0      |    0    |          True\n",
            " 0 | 1 | 1 |     0      |    0    |          True\n",
            " 1 | 0 | 0 |     0      |    0    |          True\n",
            " 1 | 0 | 1 |     0      |    0    |          True\n",
            " 1 | 1 | 0 |     0      |    0    |          True\n",
            " 1 | 1 | 1 |     1      |    1    |          1\n",
            "\n",
            "Student Tests:\n",
            "Juan: HG=1, L=0, A=1 → Not Eligible\n",
            "Maria: HG=1, L=0, A=0 → Not Eligible\n",
            "Carlos: HG=0, L=1, A=0 → Not Eligible\n",
            "Ana: HG=1, L=1, A=1 → Eligible\n"
          ]
        }
      ]
    },
    {
      "cell_type": "markdown",
      "source": [
        "Logical reasoning is important because it helps AI make fair and correct decisions by following clear rules. In real life, it’s also useful for us since it guides us to think step by step before deciding. This avoids mistakes and makes our choices more reliable. Just like in the scholarship case, logic helps decide who really deserves the support."
      ],
      "metadata": {
        "id": "2O5_Nq55OCaE"
      }
    }
  ]
}