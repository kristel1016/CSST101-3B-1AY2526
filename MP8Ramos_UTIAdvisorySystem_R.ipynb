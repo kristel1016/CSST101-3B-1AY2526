{
  "nbformat": 4,
  "nbformat_minor": 0,
  "metadata": {
    "colab": {
      "provenance": []
    },
    "kernelspec": {
      "name": "python3",
      "display_name": "Python 3"
    },
    "language_info": {
      "name": "python"
    }
  },
  "cells": [
    {
      "cell_type": "code",
      "execution_count": 13,
      "metadata": {
        "colab": {
          "base_uri": "https://localhost:8080/"
        },
        "id": "y6eLBdXKUi-P",
        "outputId": "fc67583c-9634-4b4c-8826-1a9847b2c174"
      },
      "outputs": [
        {
          "output_type": "stream",
          "name": "stdout",
          "text": [
            "Are you experiencing painful urination, frequent urination, or urgency to urinate? (yes/no): yes\n",
            "Do you have pain in your side or back (flank pain)? (yes/no): no\n",
            "Do you have a fever, shaking, or chills? (yes/no): yes\n",
            "[1] \"A fever or chills indicates the infection may be spreading beyond the bladder. You likely need antibiotics.\"\n"
          ]
        }
      ],
      "source": [
        "%%R\n",
        "# Title: UTI Advisory System\n",
        "\n",
        "symptoms <- tolower(readline(prompt=\"Are you experiencing painful urination, frequent urination, or urgency to urinate? (yes/no): \"))\n",
        "\n",
        "if (symptoms == \"yes\") {\n",
        "  back_pain <- tolower(readline(prompt=\"Do you have pain in your side or back (flank pain)? (yes/no): \"))\n",
        "\n",
        "  if (back_pain == \"yes\") {\n",
        "    print(\"Consult a doctor immediately. Flank pain suggests a possible kidney infection, which requires urgent medical attention.\")\n",
        "  } else {\n",
        "    fever_chills <- tolower(readline(prompt=\"Do you have a fever, shaking, or chills? (yes/no): \"))\n",
        "\n",
        "    if (fever_chills == \"yes\") {\n",
        "      print(\"A fever or chills indicates the infection may be spreading beyond the bladder. You likely need antibiotics.\")\n",
        "    } else {\n",
        "      blood_cloudy <- tolower(readline(prompt=\"Is your urine cloudy, very strong-smelling, or do you see blood? (yes/no): \"))\n",
        "\n",
        "      if (blood_cloudy == \"yes\") {\n",
        "        print(\"Schedule an appointment with a healthcare professional for a urine test. These signs strongly indicate a bacterial infection or irritation.\")\n",
        "      } else {\n",
        "        print(\"You may have a mild, early-stage UTI. **Drink plenty of water** (8-10 glasses) and monitor symptoms closely. If symptoms worsen or don't improve in 24 hours, see a doctor.\")\n",
        "      }\n",
        "    }\n",
        "  }\n",
        "} else {\n",
        "  print(\"Based on your responses, it is unlikely you have a UTI. If you have other health concerns, please consult a healthcare professional.\")\n",
        "}\n"
      ]
    }
  ]
}